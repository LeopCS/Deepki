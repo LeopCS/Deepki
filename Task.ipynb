{
 "cells": [
  {
   "cell_type": "markdown",
   "metadata": {},
   "source": [
    "# Deepki's Technical assessment"
   ]
  },
  {
   "cell_type": "markdown",
   "metadata": {},
   "source": [
    "## Imports and acquisition of data\n"
   ]
  },
  {
   "cell_type": "code",
   "execution_count": 2,
   "metadata": {},
   "outputs": [
    {
     "name": "stderr",
     "output_type": "stream",
     "text": [
      "/opt/anaconda3/lib/python3.8/site-packages/pandas/core/computation/expressions.py:20: UserWarning: Pandas requires version '2.7.3' or newer of 'numexpr' (version '2.7.1' currently installed).\n",
      "  from pandas.core.computation.check import NUMEXPR_INSTALLED\n"
     ]
    }
   ],
   "source": [
    "import pandas as pd \n",
    "import geopandas as gpd\n",
    "import requests\n",
    "import gzip"
   ]
  },
  {
   "cell_type": "markdown",
   "metadata": {},
   "source": [
    "Connecting to the website\n"
   ]
  },
  {
   "cell_type": "code",
   "execution_count": 2,
   "metadata": {},
   "outputs": [
    {
     "name": "stdout",
     "output_type": "stream",
     "text": [
      "Response Status Code: 200\n"
     ]
    }
   ],
   "source": [
    "\n",
    "\n",
    "import requests\n",
    "\n",
    "url = \"https://sites.research.google/open-buildings\"\n",
    "response = requests.get(url)\n",
    "print(f\"Response Status Code: {response.status_code}\")"
   ]
  },
  {
   "cell_type": "code",
   "execution_count": null,
   "metadata": {},
   "outputs": [],
   "source": [
    "\n",
    "url = \"https://storage.googleapis.com/open-buildings-data/v3/polygons_s2_level_4_gzip/009_buildings.csv.gz\"\n",
    "response = requests.get(url)\n",
    "\n",
    "# Proceed only if the connection is successful\n",
    "response.raise_for_status()\n",
    "\n",
    "# Step 2: Save the gzipped file locally\n",
    "with open('building_data.gz', 'wb') as f:\n",
    "    f.write(response.content)\n",
    "\n",
    "# Step 3: Decompress the gzipped file\n",
    "with gzip.open('building_data.gz', 'rb') as f:\n",
    "    file_content = f.read()\n",
    "\n",
    "# Step 4: Save the decompressed file locally \n",
    "with open('building_data.csv', 'wb') as f:\n",
    "    f.write(file_content)\n",
    "\n",
    "\n"
   ]
  },
  {
   "cell_type": "markdown",
   "metadata": {},
   "source": [
    "## Finding the closest building"
   ]
  },
  {
   "cell_type": "markdown",
   "metadata": {},
   "source": [
    "Visualising the first lines of data"
   ]
  },
  {
   "cell_type": "code",
   "execution_count": 3,
   "metadata": {},
   "outputs": [
    {
     "name": "stdout",
     "output_type": "stream",
     "text": [
      "    latitude  longitude  area_in_meters  confidence  \\\n",
      "0 -22.901624 -42.929226         56.3454      0.8570   \n",
      "1 -23.205527 -44.720797         30.7992      0.7711   \n",
      "2 -22.726750 -42.825261         32.4435      0.7943   \n",
      "3 -22.723037 -43.357391         57.6590      0.8026   \n",
      "4 -22.479556 -44.359011        181.2616      0.7694   \n",
      "5 -22.785605 -43.434637         48.5324      0.7073   \n",
      "6 -22.873635 -43.023156         38.4617      0.7079   \n",
      "7 -22.643436 -43.252496         12.1259      0.6590   \n",
      "8 -22.761967 -43.342515         15.1879      0.7134   \n",
      "9 -22.699793 -43.136531         89.5987      0.7478   \n",
      "\n",
      "                                            geometry full_plus_code  \n",
      "0  POLYGON((-42.9291743293887 -22.9016302192089, ...  589V33XC+9825  \n",
      "1  POLYGON((-44.7207593467604 -23.205536574256, -...  588QQ7VH+QMPV  \n",
      "2  POLYGON((-42.8252088612076 -22.7267550999572, ...  589V75FF+7VXW  \n",
      "3  POLYGON((-43.3573777886799 -22.7230910476831, ...  589R7JGV+Q2QF  \n",
      "4  POLYGON((-44.3589553775915 -22.479630744328, -...  589QGJCR+59HP  \n",
      "5  POLYGON((-43.4346154902889 -22.7856422996667, ...  589R6H78+Q45P  \n",
      "6  POLYGON((-43.0231142476069 -22.8736435681847, ...  589R4XGG+GPXJ  \n",
      "7  POLYGON((-43.2524741682547 -22.6434450649953, ...  589R9P4X+J2CC  \n",
      "8  POLYGON((-43.3425090440415 -22.7619911146806, ...  589R6MQ4+6X98  \n",
      "9  POLYGON((-43.136548217088 -22.6998421714948, -...  589R8V27+39P9  \n"
     ]
    }
   ],
   "source": [
    "\n",
    "df=pd.read_csv(\"building_data.csv\")\n",
    "print(df.head(10))"
   ]
  },
  {
   "cell_type": "markdown",
   "metadata": {},
   "source": [
    "Find the closest coordinates"
   ]
  },
  {
   "cell_type": "code",
   "execution_count": 13,
   "metadata": {},
   "outputs": [
    {
     "name": "stdout",
     "output_type": "stream",
     "text": [
      "Latitude difference: 0.0008792940000006411 degrees\n",
      "Longitude difference: 0.004484976000000529 degrees\n",
      "Latitude of closest building: -22.95187549 degrees\n",
      "Longitude of closest building: -43.21098415 degrees\n"
     ]
    }
   ],
   "source": [
    "Cristo_Coordinates=[-22.950996196, -43.206499174]\n",
    "\n",
    "def get_closest_building(target_coordinates=Cristo_Coordinates, building_df=df):\n",
    "    # Calculate absolute differences in latitude and longitude\n",
    "    building_df['lat_diff'] = abs(building_df['latitude'] - target_coordinates[0])\n",
    "    building_df['lon_diff'] = abs(building_df['longitude'] - target_coordinates[1])\n",
    "\n",
    "    # Find the index of the building with the minimum absolute differences\n",
    "    closest_building_index = (building_df['lat_diff'] + building_df['lon_diff']).idxmin()\n",
    "\n",
    "    # Retrieve the full plus code and differences of the closest building, the differences and its coordinates\n",
    "    closest_building_plus_code = building_df.loc[closest_building_index, 'full_plus_code']\n",
    "\n",
    "    closest_building_lat_diff = building_df.loc[closest_building_index, 'lat_diff']\n",
    "    closest_building_lon_diff = building_df.loc[closest_building_index, 'lon_diff']\n",
    "    \n",
    "    closest_building_lat = building_df.loc[closest_building_index, 'latitude']\n",
    "    closest_building_lon = building_df.loc[closest_building_index, 'longitude']\n",
    "\n",
    "    print(f\"Latitude difference: {closest_building_lat_diff} degrees\")\n",
    "    print(f\"Longitude difference: {closest_building_lon_diff} degrees\")\n",
    "    print(f\"Latitude of closest building: {closest_building_lat} degrees\")\n",
    "    print(f\"Longitude of closest building: {closest_building_lon} degrees\")\n",
    "    return [closest_building_plus_code,closest_building_lat, closest_building_lon]\n",
    "\n",
    "closest_building_plus_code=get_closest_building(Cristo_Coordinates, df)[0]\n"
   ]
  },
  {
   "cell_type": "markdown",
   "metadata": {},
   "source": [
    "## Visualization\n"
   ]
  },
  {
   "cell_type": "code",
   "execution_count": 17,
   "metadata": {},
   "outputs": [
    {
     "name": "stdout",
     "output_type": "stream",
     "text": [
      "Latitude difference: 0.0008792940000006411 degrees\n",
      "Longitude difference: 0.004484976000000529 degrees\n",
      "Latitude of closest building: -22.95187549 degrees\n",
      "Longitude of closest building: -43.21098415 degrees\n",
      "Latitude difference: 0.0008792940000006411 degrees\n",
      "Longitude difference: 0.004484976000000529 degrees\n",
      "Latitude of closest building: -22.95187549 degrees\n",
      "Longitude of closest building: -43.21098415 degrees\n"
     ]
    },
    {
     "data": {
      "text/html": [
       "<div style=\"width:100%;\"><div style=\"position:relative;width:100%;height:0;padding-bottom:60%;\"><span style=\"color:#565656\">Make this Notebook Trusted to load map: File -> Trust Notebook</span><iframe srcdoc=\"&lt;!DOCTYPE html&gt;\n",
       "&lt;html&gt;\n",
       "&lt;head&gt;\n",
       "    \n",
       "    &lt;meta http-equiv=&quot;content-type&quot; content=&quot;text/html; charset=UTF-8&quot; /&gt;\n",
       "    \n",
       "        &lt;script&gt;\n",
       "            L_NO_TOUCH = false;\n",
       "            L_DISABLE_3D = false;\n",
       "        &lt;/script&gt;\n",
       "    \n",
       "    &lt;style&gt;html, body {width: 100%;height: 100%;margin: 0;padding: 0;}&lt;/style&gt;\n",
       "    &lt;style&gt;#map {position:absolute;top:0;bottom:0;right:0;left:0;}&lt;/style&gt;\n",
       "    &lt;script src=&quot;https://cdn.jsdelivr.net/npm/leaflet@1.9.3/dist/leaflet.js&quot;&gt;&lt;/script&gt;\n",
       "    &lt;script src=&quot;https://code.jquery.com/jquery-1.12.4.min.js&quot;&gt;&lt;/script&gt;\n",
       "    &lt;script src=&quot;https://cdn.jsdelivr.net/npm/bootstrap@5.2.2/dist/js/bootstrap.bundle.min.js&quot;&gt;&lt;/script&gt;\n",
       "    &lt;script src=&quot;https://cdnjs.cloudflare.com/ajax/libs/Leaflet.awesome-markers/2.0.2/leaflet.awesome-markers.js&quot;&gt;&lt;/script&gt;\n",
       "    &lt;link rel=&quot;stylesheet&quot; href=&quot;https://cdn.jsdelivr.net/npm/leaflet@1.9.3/dist/leaflet.css&quot;/&gt;\n",
       "    &lt;link rel=&quot;stylesheet&quot; href=&quot;https://cdn.jsdelivr.net/npm/bootstrap@5.2.2/dist/css/bootstrap.min.css&quot;/&gt;\n",
       "    &lt;link rel=&quot;stylesheet&quot; href=&quot;https://netdna.bootstrapcdn.com/bootstrap/3.0.0/css/bootstrap.min.css&quot;/&gt;\n",
       "    &lt;link rel=&quot;stylesheet&quot; href=&quot;https://cdn.jsdelivr.net/npm/@fortawesome/fontawesome-free@6.2.0/css/all.min.css&quot;/&gt;\n",
       "    &lt;link rel=&quot;stylesheet&quot; href=&quot;https://cdnjs.cloudflare.com/ajax/libs/Leaflet.awesome-markers/2.0.2/leaflet.awesome-markers.css&quot;/&gt;\n",
       "    &lt;link rel=&quot;stylesheet&quot; href=&quot;https://cdn.jsdelivr.net/gh/python-visualization/folium/folium/templates/leaflet.awesome.rotate.min.css&quot;/&gt;\n",
       "    \n",
       "            &lt;meta name=&quot;viewport&quot; content=&quot;width=device-width,\n",
       "                initial-scale=1.0, maximum-scale=1.0, user-scalable=no&quot; /&gt;\n",
       "            &lt;style&gt;\n",
       "                #map_6c25fc5038f478c785d8bb98ecec24f0 {\n",
       "                    position: relative;\n",
       "                    width: 100.0%;\n",
       "                    height: 100.0%;\n",
       "                    left: 0.0%;\n",
       "                    top: 0.0%;\n",
       "                }\n",
       "                .leaflet-container { font-size: 1rem; }\n",
       "            &lt;/style&gt;\n",
       "        \n",
       "&lt;/head&gt;\n",
       "&lt;body&gt;\n",
       "    \n",
       "    \n",
       "            &lt;div class=&quot;folium-map&quot; id=&quot;map_6c25fc5038f478c785d8bb98ecec24f0&quot; &gt;&lt;/div&gt;\n",
       "        \n",
       "&lt;/body&gt;\n",
       "&lt;script&gt;\n",
       "    \n",
       "    \n",
       "            var map_6c25fc5038f478c785d8bb98ecec24f0 = L.map(\n",
       "                &quot;map_6c25fc5038f478c785d8bb98ecec24f0&quot;,\n",
       "                {\n",
       "                    center: [-22.950996196, -43.206499174],\n",
       "                    crs: L.CRS.EPSG3857,\n",
       "                    zoom: 15,\n",
       "                    zoomControl: true,\n",
       "                    preferCanvas: false,\n",
       "                }\n",
       "            );\n",
       "\n",
       "            \n",
       "\n",
       "        \n",
       "    \n",
       "            var tile_layer_842cb19f9f0f4729a1d2db460e363510 = L.tileLayer(\n",
       "                &quot;https://{s}.tile.openstreetmap.org/{z}/{x}/{y}.png&quot;,\n",
       "                {&quot;attribution&quot;: &quot;Data by \\u0026copy; \\u003ca target=\\&quot;_blank\\&quot; href=\\&quot;http://openstreetmap.org\\&quot;\\u003eOpenStreetMap\\u003c/a\\u003e, under \\u003ca target=\\&quot;_blank\\&quot; href=\\&quot;http://www.openstreetmap.org/copyright\\&quot;\\u003eODbL\\u003c/a\\u003e.&quot;, &quot;detectRetina&quot;: false, &quot;maxNativeZoom&quot;: 18, &quot;maxZoom&quot;: 18, &quot;minZoom&quot;: 0, &quot;noWrap&quot;: false, &quot;opacity&quot;: 1, &quot;subdomains&quot;: &quot;abc&quot;, &quot;tms&quot;: false}\n",
       "            ).addTo(map_6c25fc5038f478c785d8bb98ecec24f0);\n",
       "        \n",
       "    \n",
       "            var marker_688ba46065250aa95fc9b34b6809673e = L.marker(\n",
       "                [-22.950996196, -43.206499174],\n",
       "                {}\n",
       "            ).addTo(map_6c25fc5038f478c785d8bb98ecec24f0);\n",
       "        \n",
       "    \n",
       "        var popup_e4b24b8d8ceecc28a95fed25f89db899 = L.popup({&quot;maxWidth&quot;: &quot;100%&quot;});\n",
       "\n",
       "        \n",
       "            \n",
       "                var html_347c5163d7e273633481eec06b3d1913 = $(`&lt;div id=&quot;html_347c5163d7e273633481eec06b3d1913&quot; style=&quot;width: 100.0%; height: 100.0%;&quot;&gt;Cristo Redentor Coordinates&lt;/div&gt;`)[0];\n",
       "                popup_e4b24b8d8ceecc28a95fed25f89db899.setContent(html_347c5163d7e273633481eec06b3d1913);\n",
       "            \n",
       "        \n",
       "\n",
       "        marker_688ba46065250aa95fc9b34b6809673e.bindPopup(popup_e4b24b8d8ceecc28a95fed25f89db899)\n",
       "        ;\n",
       "\n",
       "        \n",
       "    \n",
       "    \n",
       "            var marker_abe5a67a55ac408b9e0a6c36e570fd29 = L.marker(\n",
       "                [-22.95187549, -43.21098415],\n",
       "                {}\n",
       "            ).addTo(map_6c25fc5038f478c785d8bb98ecec24f0);\n",
       "        \n",
       "    \n",
       "        var popup_366fd409164d85223d001cbfba0cc783 = L.popup({&quot;maxWidth&quot;: &quot;100%&quot;});\n",
       "\n",
       "        \n",
       "            \n",
       "                var html_77989002749d66950b9ce7312c7d53c9 = $(`&lt;div id=&quot;html_77989002749d66950b9ce7312c7d53c9&quot; style=&quot;width: 100.0%; height: 100.0%;&quot;&gt;Closest Building Full Plus Code: 589R2QXQ+6JRW&lt;/div&gt;`)[0];\n",
       "                popup_366fd409164d85223d001cbfba0cc783.setContent(html_77989002749d66950b9ce7312c7d53c9);\n",
       "            \n",
       "        \n",
       "\n",
       "        marker_abe5a67a55ac408b9e0a6c36e570fd29.bindPopup(popup_366fd409164d85223d001cbfba0cc783)\n",
       "        ;\n",
       "\n",
       "        \n",
       "    \n",
       "&lt;/script&gt;\n",
       "&lt;/html&gt;\" style=\"position:absolute;width:100%;height:100%;left:0;top:0;border:none !important;\" allowfullscreen webkitallowfullscreen mozallowfullscreen></iframe></div></div>"
      ],
      "text/plain": [
       "<folium.folium.Map at 0x7f9809d45ac0>"
      ]
     },
     "execution_count": 17,
     "metadata": {},
     "output_type": "execute_result"
    }
   ],
   "source": [
    "import folium\n",
    "lat=get_closest_building(Cristo_Coordinates, df)[1]\n",
    "lon=get_closest_building(Cristo_Coordinates, df)[2]\n",
    "\n",
    "\n",
    "\n",
    "\n",
    "m = folium.Map(location=[Cristo_Coordinates[0], Cristo_Coordinates[1]], zoom_start=15)\n",
    "folium.Marker([Cristo_Coordinates[0], Cristo_Coordinates[1]],\n",
    "              popup=\"Cristo Redentor\\nCoordinates\").add_to(m)\n",
    "folium.Marker([lat, lon],\n",
    "                  popup=f\"Closest Building\\nFull Plus Code: {closest_building_plus_code}\").add_to(m)\n",
    "\n",
    "m"
   ]
  }
 ],
 "metadata": {
  "kernelspec": {
   "display_name": "base",
   "language": "python",
   "name": "python3"
  },
  "language_info": {
   "codemirror_mode": {
    "name": "ipython",
    "version": 3
   },
   "file_extension": ".py",
   "mimetype": "text/x-python",
   "name": "python",
   "nbconvert_exporter": "python",
   "pygments_lexer": "ipython3",
   "version": "3.8.3"
  }
 },
 "nbformat": 4,
 "nbformat_minor": 2
}
